{
 "cells": [
  {
   "cell_type": "markdown",
   "id": "aa1d2049",
   "metadata": {},
   "source": [
    "## Input: \n",
    "#### give date(month,year)\n",
    "#### Day explicitly\n",
    "#### latitud and logitude\n",
    "\n",
    "## Output:\n",
    "#### Timing of All the prayers on that date"
   ]
  },
  {
   "cell_type": "code",
   "execution_count": 1,
   "id": "2d85906e",
   "metadata": {},
   "outputs": [
    {
     "name": "stdout",
     "output_type": "stream",
     "text": [
      "https://api.aladhan.com/v1/calendar/2017/4?latitude=33.738045&longitude=73.084488\n",
      "{'Fajr': '04:16 (PKT)', 'Sunrise': '05:42 (PKT)', 'Dhuhr': '12:09 (PKT)', 'Asr': '15:45 (PKT)', 'Sunset': '18:36 (PKT)', 'Maghrib': '18:36 (PKT)', 'Isha': '20:02 (PKT)', 'Imsak': '04:06 (PKT)', 'Midnight': '00:09 (PKT)', 'Firstthird': '22:18 (PKT)', 'Lastthird': '02:00 (PKT)'}\n"
     ]
    }
   ],
   "source": [
    "import requests\n",
    "\n",
    "def get_prayer_times(date, latitude, longitude,day):\n",
    "    api_key = 'http://api.aladhan.com/v1/calendarByAddress/:year/:month'\n",
    "    #url = f'https://api.aladhan.com/v1/timingsByCoordinates/{date}?latitude={latitude}&longitude={longitude}&method=2'  # 'method=2' corresponds to the Islamic Society of North America (ISNA) calculation method.\n",
    "    url = f'https://api.aladhan.com/v1/calendar/{date}?latitude={latitude}&longitude={longitude}'\n",
    "#     headers = {\n",
    "#         'Authorization': f'Bearer {api_key}',\n",
    "#     }\n",
    "    print(url)\n",
    "    response = requests.get(url)#, headers=headers)\n",
    "    if response.status_code == 200:\n",
    "        data = response.json()\n",
    "        prayer_times = data['data'][day]['timings']\n",
    "        return prayer_times\n",
    "    else:\n",
    "        print(f\"Error fetching prayer times: {response.status_code} - {response.text}\")\n",
    "        return None\n",
    "\n",
    "if __name__ == '__main__':\n",
    "    date = '2017/4'  # Replace this with your desired date in YYYY-MM-DD format.\n",
    "    #islamabad 33.738045, 73.084488\n",
    "    latitude = 33.738045  # Replace this with your current latitude.\n",
    "    longitude = 73.084488  # Replace this with your current longitude.\n",
    "    day = 10\n",
    "\n",
    "    prayer_times = get_prayer_times(date, latitude, longitude,day)\n",
    "    if prayer_times:\n",
    "        print(prayer_times)\n",
    "    else:\n",
    "        print(\"Failed to get prayer times.\")\n"
   ]
  },
  {
   "cell_type": "code",
   "execution_count": 3,
   "id": "66ab7b4d",
   "metadata": {},
   "outputs": [
    {
     "name": "stdout",
     "output_type": "stream",
     "text": [
      "Islamabad\n",
      "Wed,9 Aug 2023\n",
      "Asr: 15:56\n",
      "Dhuhr: 12:13\n",
      "Fajr: 03:53\n",
      "Isha'a: 20:34\n",
      "Maghrib: 19:06\n",
      "Sunrise: 05:21\n"
     ]
    }
   ],
   "source": [
    "import requests\n",
    "import json\n",
    "\n",
    "url = \"https://dailyprayer.abdulrcs.repl.co/api/islamabad\"\n",
    "response = requests.get(url)\n",
    "data = response.json()\n",
    "print(data['city'])\n",
    "print(data['date'])\n",
    "for prayer in data[\"today\"]:\n",
    "  print(prayer + \": \" + data[\"today\"][prayer])  \n",
    "# If you want to request for tomorrow prayer's time:\n",
    "# for prayer in data[\"tomorrow\"]:\n",
    "#  print(prayer + \": \" + data[\"tomorrow\"][prayer])"
   ]
  },
  {
   "cell_type": "markdown",
   "id": "133ab792",
   "metadata": {},
   "source": [
    "# by country and date"
   ]
  },
  {
   "cell_type": "code",
   "execution_count": 14,
   "id": "6ac3910c",
   "metadata": {},
   "outputs": [
    {
     "name": "stdout",
     "output_type": "stream",
     "text": [
      "Singapore\n",
      "Mon,7 Aug 2023\n",
      "Asr: 5:46\n",
      "Dhuhr: 5:46\n",
      "Fajr: 5:46\n",
      "Isha'a: 5:46\n",
      "Maghrib: 5:46\n",
      "Sunrise: 5:46\n"
     ]
    }
   ],
   "source": [
    "date=\"25 March 2021\"\n",
    "\n",
    "import requests\n",
    "import json\n",
    "\n",
    "url = \"https://dailyprayer.abdulrcs.repl.co/api/singapore\"\n",
    "response = requests.get(url)\n",
    "data = response.json()\n",
    "print(data['city'])\n",
    "print(data['date'])\n",
    "for prayer in data[\"today\"]:\n",
    "  print(prayer + \": \" + data['tomorrow']['Fajr'])  \n",
    "# If you want to request for tomorrow prayer's time:\n",
    "# for prayer in data[\"tomorrow\"]:\n",
    "#  print(prayer + \": \" + data[\"tomorrow\"][prayer])"
   ]
  },
  {
   "cell_type": "markdown",
   "id": "0318d34f",
   "metadata": {},
   "source": [
    "# adding to Salah time window"
   ]
  },
  {
   "cell_type": "code",
   "execution_count": null,
   "id": "d9f66018",
   "metadata": {},
   "outputs": [],
   "source": []
  }
 ],
 "metadata": {
  "kernelspec": {
   "display_name": "Python 3 (ipykernel)",
   "language": "python",
   "name": "python3"
  },
  "language_info": {
   "codemirror_mode": {
    "name": "ipython",
    "version": 3
   },
   "file_extension": ".py",
   "mimetype": "text/x-python",
   "name": "python",
   "nbconvert_exporter": "python",
   "pygments_lexer": "ipython3",
   "version": "3.11.3"
  }
 },
 "nbformat": 4,
 "nbformat_minor": 5
}
